{
 "cells": [
  {
   "cell_type": "code",
   "execution_count": 1,
   "metadata": {},
   "outputs": [],
   "source": [
    "import pandas as pd\n",
    "import os"
   ]
  },
  {
   "cell_type": "code",
   "execution_count": 2,
   "metadata": {},
   "outputs": [
    {
     "data": {
      "text/html": [
       "<div>\n",
       "<style scoped>\n",
       "    .dataframe tbody tr th:only-of-type {\n",
       "        vertical-align: middle;\n",
       "    }\n",
       "\n",
       "    .dataframe tbody tr th {\n",
       "        vertical-align: top;\n",
       "    }\n",
       "\n",
       "    .dataframe thead th {\n",
       "        text-align: right;\n",
       "    }\n",
       "</style>\n",
       "<table border=\"1\" class=\"dataframe\">\n",
       "  <thead>\n",
       "    <tr style=\"text-align: right;\">\n",
       "      <th></th>\n",
       "      <th>average_artificial_time_cal</th>\n",
       "      <th>average_dial_interval</th>\n",
       "      <th>average_idle_time</th>\n",
       "      <th>busy_ration</th>\n",
       "      <th>call_num</th>\n",
       "      <th>customer_num</th>\n",
       "      <th>loss_ration</th>\n",
       "      <th>max_wait_time</th>\n",
       "      <th>seconds_delay</th>\n",
       "      <th>time</th>\n",
       "    </tr>\n",
       "  </thead>\n",
       "  <tbody>\n",
       "    <tr>\n",
       "      <th>0</th>\n",
       "      <td>26.495025</td>\n",
       "      <td>17.016316</td>\n",
       "      <td>25.905760</td>\n",
       "      <td>0.506007</td>\n",
       "      <td>2.0</td>\n",
       "      <td>2000.0</td>\n",
       "      <td>0.218487</td>\n",
       "      <td>40.0</td>\n",
       "      <td>7.0</td>\n",
       "      <td>2022-06-24 15:50:42.216421</td>\n",
       "    </tr>\n",
       "    <tr>\n",
       "      <th>1</th>\n",
       "      <td>27.270550</td>\n",
       "      <td>17.504598</td>\n",
       "      <td>25.590985</td>\n",
       "      <td>0.516264</td>\n",
       "      <td>2.0</td>\n",
       "      <td>2000.0</td>\n",
       "      <td>0.222092</td>\n",
       "      <td>50.0</td>\n",
       "      <td>7.0</td>\n",
       "      <td>2022-06-24 15:50:44.436900</td>\n",
       "    </tr>\n",
       "    <tr>\n",
       "      <th>2</th>\n",
       "      <td>27.193274</td>\n",
       "      <td>17.204015</td>\n",
       "      <td>25.682645</td>\n",
       "      <td>0.514668</td>\n",
       "      <td>2.0</td>\n",
       "      <td>2000.0</td>\n",
       "      <td>0.201958</td>\n",
       "      <td>60.0</td>\n",
       "      <td>7.0</td>\n",
       "      <td>2022-06-24 15:50:46.257935</td>\n",
       "    </tr>\n",
       "    <tr>\n",
       "      <th>3</th>\n",
       "      <td>27.070354</td>\n",
       "      <td>17.782252</td>\n",
       "      <td>25.272820</td>\n",
       "      <td>0.517538</td>\n",
       "      <td>2.0</td>\n",
       "      <td>2000.0</td>\n",
       "      <td>0.213626</td>\n",
       "      <td>70.0</td>\n",
       "      <td>7.0</td>\n",
       "      <td>2022-06-24 15:50:48.582356</td>\n",
       "    </tr>\n",
       "    <tr>\n",
       "      <th>4</th>\n",
       "      <td>27.977171</td>\n",
       "      <td>17.790017</td>\n",
       "      <td>25.758903</td>\n",
       "      <td>0.521017</td>\n",
       "      <td>2.0</td>\n",
       "      <td>2000.0</td>\n",
       "      <td>0.206938</td>\n",
       "      <td>80.0</td>\n",
       "      <td>7.0</td>\n",
       "      <td>2022-06-24 15:50:50.957777</td>\n",
       "    </tr>\n",
       "  </tbody>\n",
       "</table>\n",
       "</div>"
      ],
      "text/plain": [
       "   average_artificial_time_cal  average_dial_interval  average_idle_time  \\\n",
       "0                    26.495025              17.016316          25.905760   \n",
       "1                    27.270550              17.504598          25.590985   \n",
       "2                    27.193274              17.204015          25.682645   \n",
       "3                    27.070354              17.782252          25.272820   \n",
       "4                    27.977171              17.790017          25.758903   \n",
       "\n",
       "   busy_ration  call_num  customer_num  loss_ration  max_wait_time  \\\n",
       "0     0.506007       2.0        2000.0     0.218487           40.0   \n",
       "1     0.516264       2.0        2000.0     0.222092           50.0   \n",
       "2     0.514668       2.0        2000.0     0.201958           60.0   \n",
       "3     0.517538       2.0        2000.0     0.213626           70.0   \n",
       "4     0.521017       2.0        2000.0     0.206938           80.0   \n",
       "\n",
       "   seconds_delay                        time  \n",
       "0            7.0  2022-06-24 15:50:42.216421  \n",
       "1            7.0  2022-06-24 15:50:44.436900  \n",
       "2            7.0  2022-06-24 15:50:46.257935  \n",
       "3            7.0  2022-06-24 15:50:48.582356  \n",
       "4            7.0  2022-06-24 15:50:50.957777  "
      ]
     },
     "execution_count": 2,
     "metadata": {},
     "output_type": "execute_result"
    }
   ],
   "source": [
    "data1 = pd.read_csv('solution3_2000_test3.csv', index_col=0)\n",
    "data1.head()"
   ]
  },
  {
   "cell_type": "code",
   "execution_count": 3,
   "metadata": {},
   "outputs": [],
   "source": [
    "data1_2 = data1[data1.call_num ==2]\n",
    "data1_3 = data1[data1.call_num ==3]\n",
    "data1_4 = data1[data1.call_num ==4]"
   ]
  },
  {
   "cell_type": "code",
   "execution_count": 6,
   "metadata": {},
   "outputs": [
    {
     "data": {
      "image/png": "[encoded data removed]",
      "text/plain": [
       "<Figure size 432x288 with 1 Axes>"
      ]
     },
     "metadata": {},
     "output_type": "display_data"
    }
   ],
   "source": [
    "import matplotlib.pyplot as plt\n",
    "\n",
    "plt.style.use('fivethirtyeight')\n",
    "\n",
    "x2 = data1_2.loss_ration\n",
    "y2 = data1_2.average_idle_time\n",
    "plt.scatter(x2, y2, s=20, c='green', marker='*', label='Concurrency_num=2')\n",
    "\n",
    "x3 = data1_3.loss_ration\n",
    "y3 = data1_3.average_idle_time\n",
    "\n",
    "plt.scatter(x3, y3, s=20, c='red', label='Concurrency_num=3')\n",
    "\n",
    "x4 = data1_4.loss_ration\n",
    "y4 = data1_4.average_idle_time\n",
    "plt.scatter(x4, y4, s=20, c='blue', marker='*', label='Concurrency_num=4')\n",
    "\n",
    "plt.legend()\n",
    "plt.title('result')\n",
    "plt.xlabel('call_loss_ration')\n",
    "plt.ylabel('seat_wait_time')\n",
    "plt.show()"
   ]
  },
  {
   "cell_type": "code",
   "execution_count": null,
   "metadata": {},
   "outputs": [],
   "source": []
  }
 ],
 "metadata": {
  "kernelspec": {
   "display_name": "Python 3",
   "language": "python",
   "name": "python3"
  },
  "language_info": {
   "codemirror_mode": {
    "name": "ipython",
    "version": 3
   },
   "file_extension": ".py",
   "mimetype": "text/x-python",
   "name": "python",
   "nbconvert_exporter": "python",
   "pygments_lexer": "ipython3",
   "version": "3.7.0"
  }
 },
 "nbformat": 4,
 "nbformat_minor": 2
}
