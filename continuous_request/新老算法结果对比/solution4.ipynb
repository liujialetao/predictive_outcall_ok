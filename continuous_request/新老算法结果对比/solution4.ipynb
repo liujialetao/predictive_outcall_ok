{
 "cells": [
  {
   "cell_type": "code",
   "execution_count": 14,
   "metadata": {},
   "outputs": [],
   "source": [
    "import pandas as pd\n",
    "import os"
   ]
  },
  {
   "cell_type": "code",
   "execution_count": 15,
   "metadata": {},
   "outputs": [
    {
     "data": {
      "text/html": [
       "<div>\n",
       "<style scoped>\n",
       "    .dataframe tbody tr th:only-of-type {\n",
       "        vertical-align: middle;\n",
       "    }\n",
       "\n",
       "    .dataframe tbody tr th {\n",
       "        vertical-align: top;\n",
       "    }\n",
       "\n",
       "    .dataframe thead th {\n",
       "        text-align: right;\n",
       "    }\n",
       "</style>\n",
       "<table border=\"1\" class=\"dataframe\">\n",
       "  <thead>\n",
       "    <tr style=\"text-align: right;\">\n",
       "      <th></th>\n",
       "      <th>坐席平均聊天时长</th>\n",
       "      <th>平均拨号间隔</th>\n",
       "      <th>进线时长</th>\n",
       "      <th>坐席忙占比</th>\n",
       "      <th>并发量</th>\n",
       "      <th>呼损率</th>\n",
       "      <th>模拟客户数量</th>\n",
       "      <th>实验结束时间</th>\n",
       "    </tr>\n",
       "  </thead>\n",
       "  <tbody>\n",
       "    <tr>\n",
       "      <th>0</th>\n",
       "      <td>26.513135</td>\n",
       "      <td>6.0</td>\n",
       "      <td>12.368774</td>\n",
       "      <td>68.3%</td>\n",
       "      <td>6</td>\n",
       "      <td>0.620</td>\n",
       "      <td>2000</td>\n",
       "      <td>2022-06-26 12:06:38.143824</td>\n",
       "    </tr>\n",
       "    <tr>\n",
       "      <th>1</th>\n",
       "      <td>27.251912</td>\n",
       "      <td>8.0</td>\n",
       "      <td>15.813650</td>\n",
       "      <td>63.3%</td>\n",
       "      <td>8</td>\n",
       "      <td>0.537</td>\n",
       "      <td>2000</td>\n",
       "      <td>2022-06-26 12:06:41.491503</td>\n",
       "    </tr>\n",
       "    <tr>\n",
       "      <th>2</th>\n",
       "      <td>26.982248</td>\n",
       "      <td>10.0</td>\n",
       "      <td>19.142584</td>\n",
       "      <td>58.6%</td>\n",
       "      <td>10</td>\n",
       "      <td>0.478</td>\n",
       "      <td>2000</td>\n",
       "      <td>2022-06-26 12:06:44.884936</td>\n",
       "    </tr>\n",
       "    <tr>\n",
       "      <th>3</th>\n",
       "      <td>26.555032</td>\n",
       "      <td>12.0</td>\n",
       "      <td>24.145908</td>\n",
       "      <td>52.4%</td>\n",
       "      <td>12</td>\n",
       "      <td>0.418</td>\n",
       "      <td>2000</td>\n",
       "      <td>2022-06-26 12:06:48.154635</td>\n",
       "    </tr>\n",
       "    <tr>\n",
       "      <th>4</th>\n",
       "      <td>27.134029</td>\n",
       "      <td>14.0</td>\n",
       "      <td>25.482023</td>\n",
       "      <td>51.6%</td>\n",
       "      <td>14</td>\n",
       "      <td>0.367</td>\n",
       "      <td>2000</td>\n",
       "      <td>2022-06-26 12:06:51.500268</td>\n",
       "    </tr>\n",
       "  </tbody>\n",
       "</table>\n",
       "</div>"
      ],
      "text/plain": [
       "    坐席平均聊天时长  平均拨号间隔       进线时长  坐席忙占比  并发量    呼损率  模拟客户数量  \\\n",
       "0  26.513135     6.0  12.368774  68.3%    6  0.620    2000   \n",
       "1  27.251912     8.0  15.813650  63.3%    8  0.537    2000   \n",
       "2  26.982248    10.0  19.142584  58.6%   10  0.478    2000   \n",
       "3  26.555032    12.0  24.145908  52.4%   12  0.418    2000   \n",
       "4  27.134029    14.0  25.482023  51.6%   14  0.367    2000   \n",
       "\n",
       "                       实验结束时间  \n",
       "0  2022-06-26 12:06:38.143824  \n",
       "1  2022-06-26 12:06:41.491503  \n",
       "2  2022-06-26 12:06:44.884936  \n",
       "3  2022-06-26 12:06:48.154635  \n",
       "4  2022-06-26 12:06:51.500268  "
      ]
     },
     "execution_count": 15,
     "metadata": {},
     "output_type": "execute_result"
    }
   ],
   "source": [
    "data1 = pd.read_csv('方案4实验结果.csv', index_col=0)\n",
    "data1['呼损率'] = data1[u'呼损率'].str.strip('%').astype(float)/100 \n",
    "data1.head()"
   ]
  },
  {
   "cell_type": "code",
   "execution_count": 17,
   "metadata": {},
   "outputs": [
    {
     "data": {
      "image/png": "[encoded data removed]",
      "text/plain": [
       "<Figure size 432x288 with 1 Axes>"
      ]
     },
     "metadata": {},
     "output_type": "display_data"
    }
   ],
   "source": [
    "import matplotlib.pyplot as plt\n",
    "\n",
    "plt.style.use('fivethirtyeight')\n",
    "\n",
    "x2 = data1['呼损率']\n",
    "y2 = data1['进线时长']\n",
    "plt.scatter(x2, y2, s=20, c='green',label='Concurrency_num=1')\n",
    "\n",
    "# x3 = data1_3.loss_ration\n",
    "# y3 = data1_3.average_idle_time\n",
    "\n",
    "# plt.scatter(x3, y3, s=20, c='red', label='Concurrency_num=3')\n",
    "\n",
    "# x4 = data1_4.loss_ration\n",
    "# y4 = data1_4.average_idle_time\n",
    "# plt.scatter(x4, y4, s=20, c='blue', marker='*', label='Concurrency_num=4')\n",
    "\n",
    "plt.legend()\n",
    "plt.title('result')\n",
    "plt.xlabel('call_loss_ration')\n",
    "plt.ylabel('seat_wait_time')\n",
    "plt.show()"
   ]
  },
  {
   "cell_type": "code",
   "execution_count": null,
   "metadata": {},
   "outputs": [],
   "source": []
  },
  {
   "cell_type": "code",
   "execution_count": null,
   "metadata": {},
   "outputs": [],
   "source": []
  }
 ],
 "metadata": {
  "kernelspec": {
   "display_name": "Python 3",
   "language": "python",
   "name": "python3"
  },
  "language_info": {
   "codemirror_mode": {
    "name": "ipython",
    "version": 3
   },
   "file_extension": ".py",
   "mimetype": "text/x-python",
   "name": "python",
   "nbconvert_exporter": "python",
   "pygments_lexer": "ipython3",
   "version": "3.7.0"
  }
 },
 "nbformat": 4,
 "nbformat_minor": 2
}
